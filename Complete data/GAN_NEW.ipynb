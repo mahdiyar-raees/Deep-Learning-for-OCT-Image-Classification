{
  "nbformat": 4,
  "nbformat_minor": 0,
  "metadata": {
    "colab": {
      "provenance": []
    },
    "kernelspec": {
      "name": "python3",
      "display_name": "Python 3"
    },
    "language_info": {
      "name": "python"
    },
    "accelerator": "GPU"
  },
  "cells": [
    {
      "cell_type": "markdown",
      "metadata": {
        "id": "ZnRPJxH5q7dX"
      },
      "source": [
        "# Preprocessing"
      ]
    },
    {
      "cell_type": "markdown",
      "metadata": {
        "id": "XB3lcsVBrAGN"
      },
      "source": [
        "Imports"
      ]
    },
    {
      "cell_type": "code",
      "metadata": {
        "id": "18CwwwD0iZL9"
      },
      "source": [
        "import numpy             as np\n",
        "import matplotlib.pyplot as plt\n",
        "import tensorflow        as tf\n",
        "import pickle"
      ],
      "execution_count": null,
      "outputs": []
    },
    {
      "cell_type": "markdown",
      "metadata": {
        "id": "zLhwU_fFrBw_"
      },
      "source": [
        "Importing Drive and unzipinig the data"
      ]
    },
    {
      "cell_type": "code",
      "metadata": {
        "colab": {
          "base_uri": "https://localhost:8080/"
        },
        "id": "EO7VBLHjlgKw",
        "outputId": "4c439c66-c873-4087-b1cc-9459be7392b2"
      },
      "source": [
        "from google.colab import drive\n",
        "drive.mount('/content/drive')\n",
        "\n",
        "!unzip drive/MyDrive/Eye/NewEye"
      ],
      "execution_count": null,
      "outputs": [
        {
          "output_type": "stream",
          "text": [
            "Mounted at /content/drive\n",
            "Archive:  drive/MyDrive/Eye/NewEye.zip\n",
            "   creating: NewEye/\n",
            "   creating: NewEye/test/\n",
            "   creating: NewEye/test/AMD/\n",
            "  inflating: NewEye/test/AMD/AMRD46.jpeg  \n",
            "  inflating: NewEye/test/AMD/AMRD47.jpeg  \n",
            "  inflating: NewEye/test/AMD/AMRD48.jpeg  \n",
            "  inflating: NewEye/test/AMD/AMRD49.jpeg  \n",
            "  inflating: NewEye/test/AMD/AMRD50.jpeg  \n",
            "  inflating: NewEye/test/AMD/AMRD51.jpeg  \n",
            "  inflating: NewEye/test/AMD/AMRD52.jpeg  \n",
            "  inflating: NewEye/test/AMD/AMRD53.jpeg  \n",
            "  inflating: NewEye/test/AMD/AMRD54.jpeg  \n",
            "  inflating: NewEye/test/AMD/AMRD55.jpeg  \n",
            "   creating: NewEye/test/CSR/\n",
            "  inflating: NewEye/test/CSR/CSR100.jpeg  \n",
            "  inflating: NewEye/test/CSR/CSR101.jpeg  \n",
            "  inflating: NewEye/test/CSR/CSR102.jpeg  \n",
            "  inflating: NewEye/test/CSR/CSR93.jpeg  \n",
            "  inflating: NewEye/test/CSR/CSR94.jpeg  \n",
            "  inflating: NewEye/test/CSR/CSR95.jpeg  \n",
            "  inflating: NewEye/test/CSR/CSR96.jpeg  \n",
            "  inflating: NewEye/test/CSR/CSR97.jpeg  \n",
            "  inflating: NewEye/test/CSR/CSR98.jpeg  \n",
            "  inflating: NewEye/test/CSR/CSR99.jpeg  \n",
            "   creating: NewEye/test/DR/\n",
            "  inflating: NewEye/test/DR/DR100.jpeg  \n",
            "  inflating: NewEye/test/DR/DR101.jpeg  \n",
            "  inflating: NewEye/test/DR/DR102.jpeg  \n",
            "  inflating: NewEye/test/DR/DR103.jpeg  \n",
            "  inflating: NewEye/test/DR/DR104.jpeg  \n",
            "  inflating: NewEye/test/DR/DR105.jpeg  \n",
            "  inflating: NewEye/test/DR/DR106.jpeg  \n",
            "  inflating: NewEye/test/DR/DR107.jpeg  \n",
            "  inflating: NewEye/test/DR/DR98.jpeg  \n",
            "  inflating: NewEye/test/DR/DR99.jpeg  \n",
            "   creating: NewEye/test/MH/\n",
            "  inflating: NewEye/test/MH/MH100.jpeg  \n",
            "  inflating: NewEye/test/MH/MH101.jpeg  \n",
            "  inflating: NewEye/test/MH/MH102.jpeg  \n",
            "  inflating: NewEye/test/MH/MH93.jpeg  \n",
            "  inflating: NewEye/test/MH/MH94.jpeg  \n",
            "  inflating: NewEye/test/MH/MH95.jpeg  \n",
            "  inflating: NewEye/test/MH/MH96.jpeg  \n",
            "  inflating: NewEye/test/MH/MH97.jpeg  \n",
            "  inflating: NewEye/test/MH/MH98.jpeg  \n",
            "  inflating: NewEye/test/MH/MH99.jpeg  \n",
            "   creating: NewEye/test/NORMAL/\n",
            "  inflating: NewEye/test/NORMAL/NORMAL197.jpeg  \n",
            "  inflating: NewEye/test/NORMAL/NORMAL198.jpeg  \n",
            "  inflating: NewEye/test/NORMAL/NORMAL199.jpeg  \n",
            "  inflating: NewEye/test/NORMAL/NORMAL200.jpeg  \n",
            "  inflating: NewEye/test/NORMAL/NORMAL201.jpeg  \n",
            "  inflating: NewEye/test/NORMAL/NORMAL202.jpeg  \n",
            "  inflating: NewEye/test/NORMAL/NORMAL203.jpeg  \n",
            "  inflating: NewEye/test/NORMAL/NORMAL204.jpeg  \n",
            "  inflating: NewEye/test/NORMAL/NORMAL205.jpeg  \n",
            "  inflating: NewEye/test/NORMAL/NORMAL206.jpeg  \n",
            "   creating: NewEye/train/\n",
            "   creating: NewEye/train/AMD/\n",
            "  inflating: NewEye/train/AMD/AMRD1.jpeg  \n",
            "  inflating: NewEye/train/AMD/AMRD10.jpeg  \n",
            "  inflating: NewEye/train/AMD/AMRD11.jpeg  \n",
            "  inflating: NewEye/train/AMD/AMRD12.jpeg  \n",
            "  inflating: NewEye/train/AMD/AMRD13.jpeg  \n",
            "  inflating: NewEye/train/AMD/AMRD14.jpeg  \n",
            "  inflating: NewEye/train/AMD/AMRD15.jpeg  \n",
            "  inflating: NewEye/train/AMD/AMRD16.jpeg  \n",
            "  inflating: NewEye/train/AMD/AMRD17.jpeg  \n",
            "  inflating: NewEye/train/AMD/AMRD18.jpeg  \n",
            "  inflating: NewEye/train/AMD/AMRD19.jpeg  \n",
            "  inflating: NewEye/train/AMD/AMRD2.jpeg  \n",
            "  inflating: NewEye/train/AMD/AMRD20.jpeg  \n",
            "  inflating: NewEye/train/AMD/AMRD21.jpeg  \n",
            "  inflating: NewEye/train/AMD/AMRD22.jpeg  \n",
            "  inflating: NewEye/train/AMD/AMRD23.jpeg  \n",
            "  inflating: NewEye/train/AMD/AMRD24.jpeg  \n",
            "  inflating: NewEye/train/AMD/AMRD25.jpeg  \n",
            "  inflating: NewEye/train/AMD/AMRD26.jpeg  \n",
            "  inflating: NewEye/train/AMD/AMRD27.jpeg  \n",
            "  inflating: NewEye/train/AMD/AMRD28.jpeg  \n",
            "  inflating: NewEye/train/AMD/AMRD29.jpeg  \n",
            "  inflating: NewEye/train/AMD/AMRD3.jpeg  \n",
            "  inflating: NewEye/train/AMD/AMRD30.jpeg  \n",
            "  inflating: NewEye/train/AMD/AMRD31.jpeg  \n",
            "  inflating: NewEye/train/AMD/AMRD32.jpeg  \n",
            "  inflating: NewEye/train/AMD/AMRD33.jpeg  \n",
            "  inflating: NewEye/train/AMD/AMRD34.jpeg  \n",
            "  inflating: NewEye/train/AMD/AMRD35.jpeg  \n",
            "  inflating: NewEye/train/AMD/AMRD36.jpeg  \n",
            "  inflating: NewEye/train/AMD/AMRD37.jpeg  \n",
            "  inflating: NewEye/train/AMD/AMRD38.jpeg  \n",
            "  inflating: NewEye/train/AMD/AMRD39.jpeg  \n",
            "  inflating: NewEye/train/AMD/AMRD4.jpeg  \n",
            "  inflating: NewEye/train/AMD/AMRD40.jpeg  \n",
            "  inflating: NewEye/train/AMD/AMRD41.jpeg  \n",
            "  inflating: NewEye/train/AMD/AMRD42.jpeg  \n",
            "  inflating: NewEye/train/AMD/AMRD43.jpeg  \n",
            "  inflating: NewEye/train/AMD/AMRD44.jpeg  \n",
            "  inflating: NewEye/train/AMD/AMRD45.jpeg  \n",
            "  inflating: NewEye/train/AMD/AMRD5.jpeg  \n",
            "  inflating: NewEye/train/AMD/AMRD6.jpeg  \n",
            "  inflating: NewEye/train/AMD/AMRD7.jpeg  \n",
            "  inflating: NewEye/train/AMD/AMRD8.jpeg  \n",
            "  inflating: NewEye/train/AMD/AMRD9.jpeg  \n",
            "   creating: NewEye/train/CSR/\n",
            "  inflating: NewEye/train/CSR/CSR1.jpeg  \n",
            "  inflating: NewEye/train/CSR/CSR10.jpeg  \n",
            "  inflating: NewEye/train/CSR/CSR11.jpeg  \n",
            "  inflating: NewEye/train/CSR/CSR12.jpeg  \n",
            "  inflating: NewEye/train/CSR/CSR13.jpeg  \n",
            "  inflating: NewEye/train/CSR/CSR14.jpeg  \n",
            "  inflating: NewEye/train/CSR/CSR15.jpeg  \n",
            "  inflating: NewEye/train/CSR/CSR16.jpeg  \n",
            "  inflating: NewEye/train/CSR/CSR17.jpeg  \n",
            "  inflating: NewEye/train/CSR/CSR18.jpeg  \n",
            "  inflating: NewEye/train/CSR/CSR19.jpeg  \n",
            "  inflating: NewEye/train/CSR/CSR2.jpeg  \n",
            "  inflating: NewEye/train/CSR/CSR20.jpeg  \n",
            "  inflating: NewEye/train/CSR/CSR21.jpeg  \n",
            "  inflating: NewEye/train/CSR/CSR22.jpeg  \n",
            "  inflating: NewEye/train/CSR/CSR23.jpeg  \n",
            "  inflating: NewEye/train/CSR/CSR24.jpeg  \n",
            "  inflating: NewEye/train/CSR/CSR25.jpeg  \n",
            "  inflating: NewEye/train/CSR/CSR26.jpeg  \n",
            "  inflating: NewEye/train/CSR/CSR27.jpeg  \n",
            "  inflating: NewEye/train/CSR/CSR28.jpeg  \n",
            "  inflating: NewEye/train/CSR/CSR29.jpeg  \n",
            "  inflating: NewEye/train/CSR/CSR3.jpeg  \n",
            "  inflating: NewEye/train/CSR/CSR30.jpeg  \n",
            "  inflating: NewEye/train/CSR/CSR31.jpeg  \n",
            "  inflating: NewEye/train/CSR/CSR32.jpeg  \n",
            "  inflating: NewEye/train/CSR/CSR33.jpeg  \n",
            "  inflating: NewEye/train/CSR/CSR34.jpeg  \n",
            "  inflating: NewEye/train/CSR/CSR35.jpeg  \n",
            "  inflating: NewEye/train/CSR/CSR36.jpeg  \n",
            "  inflating: NewEye/train/CSR/CSR37.jpeg  \n",
            "  inflating: NewEye/train/CSR/CSR38.jpeg  \n",
            "  inflating: NewEye/train/CSR/CSR39.jpeg  \n",
            "  inflating: NewEye/train/CSR/CSR4.jpeg  \n",
            "  inflating: NewEye/train/CSR/CSR40.jpeg  \n",
            "  inflating: NewEye/train/CSR/CSR41.jpeg  \n",
            "  inflating: NewEye/train/CSR/CSR42.jpeg  \n",
            "  inflating: NewEye/train/CSR/CSR43.jpeg  \n",
            "  inflating: NewEye/train/CSR/CSR44.jpeg  \n",
            "  inflating: NewEye/train/CSR/CSR45.jpeg  \n",
            "  inflating: NewEye/train/CSR/CSR46.jpeg  \n",
            "  inflating: NewEye/train/CSR/CSR47.jpeg  \n",
            "  inflating: NewEye/train/CSR/CSR48.jpeg  \n",
            "  inflating: NewEye/train/CSR/CSR49.jpeg  \n",
            "  inflating: NewEye/train/CSR/CSR5.jpeg  \n",
            "  inflating: NewEye/train/CSR/CSR50.jpeg  \n",
            "  inflating: NewEye/train/CSR/CSR51.jpeg  \n",
            "  inflating: NewEye/train/CSR/CSR52.jpeg  \n",
            "  inflating: NewEye/train/CSR/CSR53.jpeg  \n",
            "  inflating: NewEye/train/CSR/CSR54.jpeg  \n",
            "  inflating: NewEye/train/CSR/CSR55.jpeg  \n",
            "  inflating: NewEye/train/CSR/CSR56.jpeg  \n",
            "  inflating: NewEye/train/CSR/CSR57.jpeg  \n",
            "  inflating: NewEye/train/CSR/CSR58.jpeg  \n",
            "  inflating: NewEye/train/CSR/CSR59.jpeg  \n",
            "  inflating: NewEye/train/CSR/CSR6.jpeg  \n",
            "  inflating: NewEye/train/CSR/CSR60.jpeg  \n",
            "  inflating: NewEye/train/CSR/CSR61.jpeg  \n",
            "  inflating: NewEye/train/CSR/CSR62.jpeg  \n",
            "  inflating: NewEye/train/CSR/CSR63.jpeg  \n",
            "  inflating: NewEye/train/CSR/CSR64.jpeg  \n",
            "  inflating: NewEye/train/CSR/CSR65.jpeg  \n",
            "  inflating: NewEye/train/CSR/CSR66.jpeg  \n",
            "  inflating: NewEye/train/CSR/CSR67.jpeg  \n",
            "  inflating: NewEye/train/CSR/CSR68.jpeg  \n",
            "  inflating: NewEye/train/CSR/CSR69.jpeg  \n",
            "  inflating: NewEye/train/CSR/CSR7.jpeg  \n",
            "  inflating: NewEye/train/CSR/CSR70.jpeg  \n",
            "  inflating: NewEye/train/CSR/CSR71.jpeg  \n",
            "  inflating: NewEye/train/CSR/CSR72.jpeg  \n",
            "  inflating: NewEye/train/CSR/CSR73.jpeg  \n",
            "  inflating: NewEye/train/CSR/CSR74.jpeg  \n",
            "  inflating: NewEye/train/CSR/CSR75.jpeg  \n",
            "  inflating: NewEye/train/CSR/CSR76.jpeg  \n",
            "  inflating: NewEye/train/CSR/CSR77.jpeg  \n",
            "  inflating: NewEye/train/CSR/CSR78.jpeg  \n",
            "  inflating: NewEye/train/CSR/CSR79.jpeg  \n",
            "  inflating: NewEye/train/CSR/CSR8.jpeg  \n",
            "  inflating: NewEye/train/CSR/CSR80.jpeg  \n",
            "  inflating: NewEye/train/CSR/CSR81.jpeg  \n",
            "  inflating: NewEye/train/CSR/CSR82.jpeg  \n",
            "  inflating: NewEye/train/CSR/CSR83.jpeg  \n",
            "  inflating: NewEye/train/CSR/CSR84.jpeg  \n",
            "  inflating: NewEye/train/CSR/CSR85.jpeg  \n",
            "  inflating: NewEye/train/CSR/CSR86.jpeg  \n",
            "  inflating: NewEye/train/CSR/CSR87.jpeg  \n",
            "  inflating: NewEye/train/CSR/CSR88.jpeg  \n",
            "  inflating: NewEye/train/CSR/CSR89.jpeg  \n",
            "  inflating: NewEye/train/CSR/CSR9.jpeg  \n",
            "  inflating: NewEye/train/CSR/CSR90.jpeg  \n",
            "  inflating: NewEye/train/CSR/CSR91.jpeg  \n",
            "  inflating: NewEye/train/CSR/CSR92.jpeg  \n",
            "   creating: NewEye/train/DR/\n",
            "  inflating: NewEye/train/DR/DR1.jpeg  \n",
            "  inflating: NewEye/train/DR/DR10.jpeg  \n",
            "  inflating: NewEye/train/DR/DR11.jpeg  \n",
            "  inflating: NewEye/train/DR/DR12.jpeg  \n",
            "  inflating: NewEye/train/DR/DR13.jpeg  \n",
            "  inflating: NewEye/train/DR/DR14.jpeg  \n",
            "  inflating: NewEye/train/DR/DR15.jpeg  \n",
            "  inflating: NewEye/train/DR/DR16.jpeg  \n",
            "  inflating: NewEye/train/DR/DR17.jpeg  \n",
            "  inflating: NewEye/train/DR/DR18.jpeg  \n",
            "  inflating: NewEye/train/DR/DR19.jpeg  \n",
            "  inflating: NewEye/train/DR/DR2.jpeg  \n",
            "  inflating: NewEye/train/DR/DR20.jpeg  \n",
            "  inflating: NewEye/train/DR/DR21.jpeg  \n",
            "  inflating: NewEye/train/DR/DR22.jpeg  \n",
            "  inflating: NewEye/train/DR/DR23.jpeg  \n",
            "  inflating: NewEye/train/DR/DR24.jpeg  \n",
            "  inflating: NewEye/train/DR/DR25.jpeg  \n",
            "  inflating: NewEye/train/DR/DR26.jpeg  \n",
            "  inflating: NewEye/train/DR/DR27.jpeg  \n",
            "  inflating: NewEye/train/DR/DR28.jpeg  \n",
            "  inflating: NewEye/train/DR/DR29.jpeg  \n",
            "  inflating: NewEye/train/DR/DR3.jpeg  \n",
            "  inflating: NewEye/train/DR/DR30.jpeg  \n",
            "  inflating: NewEye/train/DR/DR31.jpeg  \n",
            "  inflating: NewEye/train/DR/DR32.jpeg  \n",
            "  inflating: NewEye/train/DR/DR33.jpeg  \n",
            "  inflating: NewEye/train/DR/DR34.jpeg  \n",
            "  inflating: NewEye/train/DR/DR35.jpeg  \n",
            "  inflating: NewEye/train/DR/DR36.jpeg  \n",
            "  inflating: NewEye/train/DR/DR37.jpeg  \n",
            "  inflating: NewEye/train/DR/DR38.jpeg  \n",
            "  inflating: NewEye/train/DR/DR39.jpeg  \n",
            "  inflating: NewEye/train/DR/DR4.jpeg  \n",
            "  inflating: NewEye/train/DR/DR40.jpeg  \n",
            "  inflating: NewEye/train/DR/DR41.jpeg  \n",
            "  inflating: NewEye/train/DR/DR42.jpeg  \n",
            "  inflating: NewEye/train/DR/DR43.jpeg  \n",
            "  inflating: NewEye/train/DR/DR44.jpeg  \n",
            "  inflating: NewEye/train/DR/DR45.jpeg  \n",
            "  inflating: NewEye/train/DR/DR46.jpeg  \n",
            "  inflating: NewEye/train/DR/DR47.jpeg  \n",
            "  inflating: NewEye/train/DR/DR48.jpeg  \n",
            "  inflating: NewEye/train/DR/DR49.jpeg  \n",
            "  inflating: NewEye/train/DR/DR5.jpeg  \n",
            "  inflating: NewEye/train/DR/DR50.jpeg  \n",
            "  inflating: NewEye/train/DR/DR51.jpeg  \n",
            "  inflating: NewEye/train/DR/DR52.jpeg  \n",
            "  inflating: NewEye/train/DR/DR53.jpeg  \n",
            "  inflating: NewEye/train/DR/DR54.jpeg  \n",
            "  inflating: NewEye/train/DR/DR55.jpeg  \n",
            "  inflating: NewEye/train/DR/DR56.jpeg  \n",
            "  inflating: NewEye/train/DR/DR57.jpeg  \n",
            "  inflating: NewEye/train/DR/DR58.jpeg  \n",
            "  inflating: NewEye/train/DR/DR59.jpeg  \n",
            "  inflating: NewEye/train/DR/DR6.jpeg  \n",
            "  inflating: NewEye/train/DR/DR60.jpeg  \n",
            "  inflating: NewEye/train/DR/DR61.jpeg  \n",
            "  inflating: NewEye/train/DR/DR62.jpeg  \n",
            "  inflating: NewEye/train/DR/DR63.jpeg  \n",
            "  inflating: NewEye/train/DR/DR64.jpeg  \n",
            "  inflating: NewEye/train/DR/DR65.jpeg  \n",
            "  inflating: NewEye/train/DR/DR66.jpeg  \n",
            "  inflating: NewEye/train/DR/DR67.jpeg  \n",
            "  inflating: NewEye/train/DR/DR68.jpeg  \n",
            "  inflating: NewEye/train/DR/DR69.jpeg  \n",
            "  inflating: NewEye/train/DR/DR7.jpeg  \n",
            "  inflating: NewEye/train/DR/DR70.jpeg  \n",
            "  inflating: NewEye/train/DR/DR71.jpeg  \n",
            "  inflating: NewEye/train/DR/DR72.jpeg  \n",
            "  inflating: NewEye/train/DR/DR73.jpeg  \n",
            "  inflating: NewEye/train/DR/DR74.jpeg  \n",
            "  inflating: NewEye/train/DR/DR75.jpeg  \n",
            "  inflating: NewEye/train/DR/DR76.jpeg  \n",
            "  inflating: NewEye/train/DR/DR77.jpeg  \n",
            "  inflating: NewEye/train/DR/DR78.jpeg  \n",
            "  inflating: NewEye/train/DR/DR79.jpeg  \n",
            "  inflating: NewEye/train/DR/DR8.jpeg  \n",
            "  inflating: NewEye/train/DR/DR80.jpeg  \n",
            "  inflating: NewEye/train/DR/DR81.jpeg  \n",
            "  inflating: NewEye/train/DR/DR82.jpeg  \n",
            "  inflating: NewEye/train/DR/DR83.jpeg  \n",
            "  inflating: NewEye/train/DR/DR84.jpeg  \n",
            "  inflating: NewEye/train/DR/DR85.jpeg  \n",
            "  inflating: NewEye/train/DR/DR86.jpeg  \n",
            "  inflating: NewEye/train/DR/DR87.jpeg  \n",
            "  inflating: NewEye/train/DR/DR88.jpeg  \n",
            "  inflating: NewEye/train/DR/DR89.jpeg  \n",
            "  inflating: NewEye/train/DR/DR9.jpeg  \n",
            "  inflating: NewEye/train/DR/DR90.jpeg  \n",
            "  inflating: NewEye/train/DR/DR91.jpeg  \n",
            "  inflating: NewEye/train/DR/DR92.jpeg  \n",
            "  inflating: NewEye/train/DR/DR93.jpeg  \n",
            "  inflating: NewEye/train/DR/DR94.jpeg  \n",
            "  inflating: NewEye/train/DR/DR95.jpeg  \n",
            "  inflating: NewEye/train/DR/DR96.jpeg  \n",
            "  inflating: NewEye/train/DR/DR97.jpeg  \n",
            "   creating: NewEye/train/MH/\n",
            "  inflating: NewEye/train/MH/MH1.jpeg  \n",
            "  inflating: NewEye/train/MH/MH10.jpeg  \n",
            "  inflating: NewEye/train/MH/MH11.jpeg  \n",
            "  inflating: NewEye/train/MH/MH12.jpeg  \n",
            "  inflating: NewEye/train/MH/MH13.jpeg  \n",
            "  inflating: NewEye/train/MH/MH14.jpeg  \n",
            "  inflating: NewEye/train/MH/MH15.jpeg  \n",
            "  inflating: NewEye/train/MH/MH16.jpeg  \n",
            "  inflating: NewEye/train/MH/MH17.jpeg  \n",
            "  inflating: NewEye/train/MH/MH18.jpeg  \n",
            "  inflating: NewEye/train/MH/MH19.jpeg  \n",
            "  inflating: NewEye/train/MH/MH2.jpeg  \n",
            "  inflating: NewEye/train/MH/MH20.jpeg  \n",
            "  inflating: NewEye/train/MH/MH21.jpeg  \n",
            "  inflating: NewEye/train/MH/MH22.jpeg  \n",
            "  inflating: NewEye/train/MH/MH23.jpeg  \n",
            "  inflating: NewEye/train/MH/MH24.jpeg  \n",
            "  inflating: NewEye/train/MH/MH25.jpeg  \n",
            "  inflating: NewEye/train/MH/MH26.jpeg  \n",
            "  inflating: NewEye/train/MH/MH27.jpeg  \n",
            "  inflating: NewEye/train/MH/MH28.jpeg  \n",
            "  inflating: NewEye/train/MH/MH29.jpeg  \n",
            "  inflating: NewEye/train/MH/MH3.jpeg  \n",
            "  inflating: NewEye/train/MH/MH30.jpeg  \n",
            "  inflating: NewEye/train/MH/MH31.jpeg  \n",
            "  inflating: NewEye/train/MH/MH32.jpeg  \n",
            "  inflating: NewEye/train/MH/MH33.jpeg  \n",
            "  inflating: NewEye/train/MH/MH34.jpeg  \n",
            "  inflating: NewEye/train/MH/MH35.jpeg  \n",
            "  inflating: NewEye/train/MH/MH36.jpeg  \n",
            "  inflating: NewEye/train/MH/MH37.jpeg  \n",
            "  inflating: NewEye/train/MH/MH38.jpeg  \n",
            "  inflating: NewEye/train/MH/MH39.jpeg  \n",
            "  inflating: NewEye/train/MH/MH4.jpeg  \n",
            "  inflating: NewEye/train/MH/MH40.jpeg  \n",
            "  inflating: NewEye/train/MH/MH41.jpeg  \n",
            "  inflating: NewEye/train/MH/MH42.jpeg  \n",
            "  inflating: NewEye/train/MH/MH43.jpeg  \n",
            "  inflating: NewEye/train/MH/MH44.jpeg  \n",
            "  inflating: NewEye/train/MH/MH45.jpeg  \n",
            "  inflating: NewEye/train/MH/MH46.jpeg  \n",
            "  inflating: NewEye/train/MH/MH47.jpeg  \n",
            "  inflating: NewEye/train/MH/MH48.jpeg  \n",
            "  inflating: NewEye/train/MH/MH49.jpeg  \n",
            "  inflating: NewEye/train/MH/MH5.jpeg  \n",
            "  inflating: NewEye/train/MH/MH50.jpeg  \n",
            "  inflating: NewEye/train/MH/MH51.jpeg  \n",
            "  inflating: NewEye/train/MH/MH52.jpeg  \n",
            "  inflating: NewEye/train/MH/MH53.jpeg  \n",
            "  inflating: NewEye/train/MH/MH54.jpeg  \n",
            "  inflating: NewEye/train/MH/MH55.jpeg  \n",
            "  inflating: NewEye/train/MH/MH56.jpeg  \n",
            "  inflating: NewEye/train/MH/MH57.jpeg  \n",
            "  inflating: NewEye/train/MH/MH58.jpeg  \n",
            "  inflating: NewEye/train/MH/MH59.jpeg  \n",
            "  inflating: NewEye/train/MH/MH6.jpeg  \n",
            "  inflating: NewEye/train/MH/MH60.jpeg  \n",
            "  inflating: NewEye/train/MH/MH61.jpeg  \n",
            "  inflating: NewEye/train/MH/MH62.jpeg  \n",
            "  inflating: NewEye/train/MH/MH63.jpeg  \n",
            "  inflating: NewEye/train/MH/MH64.jpeg  \n",
            "  inflating: NewEye/train/MH/MH65.jpeg  \n",
            "  inflating: NewEye/train/MH/MH66.jpeg  \n",
            "  inflating: NewEye/train/MH/MH67.jpeg  \n",
            "  inflating: NewEye/train/MH/MH68.jpeg  \n",
            "  inflating: NewEye/train/MH/MH69.jpeg  \n",
            "  inflating: NewEye/train/MH/MH7.jpeg  \n",
            "  inflating: NewEye/train/MH/MH70.jpeg  \n",
            "  inflating: NewEye/train/MH/MH71.jpeg  \n",
            "  inflating: NewEye/train/MH/MH72.jpeg  \n",
            "  inflating: NewEye/train/MH/MH73.jpeg  \n",
            "  inflating: NewEye/train/MH/MH74.jpeg  \n",
            "  inflating: NewEye/train/MH/MH75.jpeg  \n",
            "  inflating: NewEye/train/MH/MH76.jpeg  \n",
            "  inflating: NewEye/train/MH/MH77.jpeg  \n",
            "  inflating: NewEye/train/MH/MH78.jpeg  \n",
            "  inflating: NewEye/train/MH/MH79.jpeg  \n",
            "  inflating: NewEye/train/MH/MH8.jpeg  \n",
            "  inflating: NewEye/train/MH/MH80.jpeg  \n",
            "  inflating: NewEye/train/MH/MH81.jpeg  \n",
            "  inflating: NewEye/train/MH/MH82.jpeg  \n",
            "  inflating: NewEye/train/MH/MH83.jpeg  \n",
            "  inflating: NewEye/train/MH/MH84.jpeg  \n",
            "  inflating: NewEye/train/MH/MH85.jpeg  \n",
            "  inflating: NewEye/train/MH/MH86.jpeg  \n",
            "  inflating: NewEye/train/MH/MH87.jpeg  \n",
            "  inflating: NewEye/train/MH/MH88.jpeg  \n",
            "  inflating: NewEye/train/MH/MH89.jpeg  \n",
            "  inflating: NewEye/train/MH/MH9.jpeg  \n",
            "  inflating: NewEye/train/MH/MH90.jpeg  \n",
            "  inflating: NewEye/train/MH/MH91.jpeg  \n",
            "  inflating: NewEye/train/MH/MH92.jpeg  \n",
            "   creating: NewEye/train/NORMAL/\n",
            "  inflating: NewEye/train/NORMAL/NORMAL1.jpeg  \n",
            "  inflating: NewEye/train/NORMAL/NORMAL10.jpeg  \n",
            "  inflating: NewEye/train/NORMAL/NORMAL100.jpeg  \n",
            "  inflating: NewEye/train/NORMAL/NORMAL101.jpeg  \n",
            "  inflating: NewEye/train/NORMAL/NORMAL102.jpeg  \n",
            "  inflating: NewEye/train/NORMAL/NORMAL103.jpeg  \n",
            "  inflating: NewEye/train/NORMAL/NORMAL104.jpeg  \n",
            "  inflating: NewEye/train/NORMAL/NORMAL105.jpeg  \n",
            "  inflating: NewEye/train/NORMAL/NORMAL106.jpeg  \n",
            "  inflating: NewEye/train/NORMAL/NORMAL107.jpeg  \n",
            "  inflating: NewEye/train/NORMAL/NORMAL108.jpeg  \n",
            "  inflating: NewEye/train/NORMAL/NORMAL109.jpeg  \n",
            "  inflating: NewEye/train/NORMAL/NORMAL11.jpeg  \n",
            "  inflating: NewEye/train/NORMAL/NORMAL110.jpeg  \n",
            "  inflating: NewEye/train/NORMAL/NORMAL111.jpeg  \n",
            "  inflating: NewEye/train/NORMAL/NORMAL112.jpeg  \n",
            "  inflating: NewEye/train/NORMAL/NORMAL113.jpeg  \n",
            "  inflating: NewEye/train/NORMAL/NORMAL114.jpeg  \n",
            "  inflating: NewEye/train/NORMAL/NORMAL115.jpeg  \n",
            "  inflating: NewEye/train/NORMAL/NORMAL116.jpeg  \n",
            "  inflating: NewEye/train/NORMAL/NORMAL117.jpeg  \n",
            "  inflating: NewEye/train/NORMAL/NORMAL118.jpeg  \n",
            "  inflating: NewEye/train/NORMAL/NORMAL119.jpeg  \n",
            "  inflating: NewEye/train/NORMAL/NORMAL12.jpeg  \n",
            "  inflating: NewEye/train/NORMAL/NORMAL120.jpeg  \n",
            "  inflating: NewEye/train/NORMAL/NORMAL121.jpeg  \n",
            "  inflating: NewEye/train/NORMAL/NORMAL122.jpeg  \n",
            "  inflating: NewEye/train/NORMAL/NORMAL123.jpeg  \n",
            "  inflating: NewEye/train/NORMAL/NORMAL124.jpeg  \n",
            "  inflating: NewEye/train/NORMAL/NORMAL125.jpeg  \n",
            "  inflating: NewEye/train/NORMAL/NORMAL126.jpeg  \n",
            "  inflating: NewEye/train/NORMAL/NORMAL127.jpeg  \n",
            "  inflating: NewEye/train/NORMAL/NORMAL128.jpeg  \n",
            "  inflating: NewEye/train/NORMAL/NORMAL129.jpeg  \n",
            "  inflating: NewEye/train/NORMAL/NORMAL13.jpeg  \n",
            "  inflating: NewEye/train/NORMAL/NORMAL130.jpeg  \n",
            "  inflating: NewEye/train/NORMAL/NORMAL131.jpeg  \n",
            "  inflating: NewEye/train/NORMAL/NORMAL132.jpeg  \n",
            "  inflating: NewEye/train/NORMAL/NORMAL133.jpeg  \n",
            "  inflating: NewEye/train/NORMAL/NORMAL134.jpeg  \n",
            "  inflating: NewEye/train/NORMAL/NORMAL135.jpeg  \n",
            "  inflating: NewEye/train/NORMAL/NORMAL136.jpeg  \n",
            "  inflating: NewEye/train/NORMAL/NORMAL137.jpeg  \n",
            "  inflating: NewEye/train/NORMAL/NORMAL138.jpeg  \n",
            "  inflating: NewEye/train/NORMAL/NORMAL139.jpeg  \n",
            "  inflating: NewEye/train/NORMAL/NORMAL14.jpeg  \n",
            "  inflating: NewEye/train/NORMAL/NORMAL140.jpeg  \n",
            "  inflating: NewEye/train/NORMAL/NORMAL141.jpeg  \n",
            "  inflating: NewEye/train/NORMAL/NORMAL142.jpeg  \n",
            "  inflating: NewEye/train/NORMAL/NORMAL143.jpeg  \n",
            "  inflating: NewEye/train/NORMAL/NORMAL144.jpeg  \n",
            "  inflating: NewEye/train/NORMAL/NORMAL145.jpeg  \n",
            "  inflating: NewEye/train/NORMAL/NORMAL146.jpeg  \n",
            "  inflating: NewEye/train/NORMAL/NORMAL147.jpeg  \n",
            "  inflating: NewEye/train/NORMAL/NORMAL148.jpeg  \n",
            "  inflating: NewEye/train/NORMAL/NORMAL149.jpeg  \n",
            "  inflating: NewEye/train/NORMAL/NORMAL15.jpeg  \n",
            "  inflating: NewEye/train/NORMAL/NORMAL150.jpeg  \n",
            "  inflating: NewEye/train/NORMAL/NORMAL151.jpeg  \n",
            "  inflating: NewEye/train/NORMAL/NORMAL152.jpeg  \n",
            "  inflating: NewEye/train/NORMAL/NORMAL153.jpeg  \n",
            "  inflating: NewEye/train/NORMAL/NORMAL154.jpeg  \n",
            "  inflating: NewEye/train/NORMAL/NORMAL155.jpeg  \n",
            "  inflating: NewEye/train/NORMAL/NORMAL156.jpeg  \n",
            "  inflating: NewEye/train/NORMAL/NORMAL157.jpeg  \n",
            "  inflating: NewEye/train/NORMAL/NORMAL158.jpeg  \n",
            "  inflating: NewEye/train/NORMAL/NORMAL159.jpeg  \n",
            "  inflating: NewEye/train/NORMAL/NORMAL16.jpeg  \n",
            "  inflating: NewEye/train/NORMAL/NORMAL160.jpeg  \n",
            "  inflating: NewEye/train/NORMAL/NORMAL161.jpeg  \n",
            "  inflating: NewEye/train/NORMAL/NORMAL162.jpeg  \n",
            "  inflating: NewEye/train/NORMAL/NORMAL163.jpeg  \n",
            "  inflating: NewEye/train/NORMAL/NORMAL164.jpeg  \n",
            "  inflating: NewEye/train/NORMAL/NORMAL165.jpeg  \n",
            "  inflating: NewEye/train/NORMAL/NORMAL166.jpeg  \n",
            "  inflating: NewEye/train/NORMAL/NORMAL167.jpeg  \n",
            "  inflating: NewEye/train/NORMAL/NORMAL168.jpeg  \n",
            "  inflating: NewEye/train/NORMAL/NORMAL169.jpeg  \n",
            "  inflating: NewEye/train/NORMAL/NORMAL17.jpeg  \n",
            "  inflating: NewEye/train/NORMAL/NORMAL170.jpeg  \n",
            "  inflating: NewEye/train/NORMAL/NORMAL171.jpeg  \n",
            "  inflating: NewEye/train/NORMAL/NORMAL172.jpeg  \n",
            "  inflating: NewEye/train/NORMAL/NORMAL173.jpeg  \n",
            "  inflating: NewEye/train/NORMAL/NORMAL174.jpeg  \n",
            "  inflating: NewEye/train/NORMAL/NORMAL175.jpeg  \n",
            "  inflating: NewEye/train/NORMAL/NORMAL176.jpeg  \n",
            "  inflating: NewEye/train/NORMAL/NORMAL177.jpeg  \n",
            "  inflating: NewEye/train/NORMAL/NORMAL178.jpeg  \n",
            "  inflating: NewEye/train/NORMAL/NORMAL179.jpeg  \n",
            "  inflating: NewEye/train/NORMAL/NORMAL18.jpeg  \n",
            "  inflating: NewEye/train/NORMAL/NORMAL180.jpeg  \n",
            "  inflating: NewEye/train/NORMAL/NORMAL181.jpeg  \n",
            "  inflating: NewEye/train/NORMAL/NORMAL182.jpeg  \n",
            "  inflating: NewEye/train/NORMAL/NORMAL183.jpeg  \n",
            "  inflating: NewEye/train/NORMAL/NORMAL184.jpeg  \n",
            "  inflating: NewEye/train/NORMAL/NORMAL185.jpeg  \n",
            "  inflating: NewEye/train/NORMAL/NORMAL186.jpeg  \n",
            "  inflating: NewEye/train/NORMAL/NORMAL187.jpeg  \n",
            "  inflating: NewEye/train/NORMAL/NORMAL188.jpeg  \n",
            "  inflating: NewEye/train/NORMAL/NORMAL189.jpeg  \n",
            "  inflating: NewEye/train/NORMAL/NORMAL19.jpeg  \n",
            "  inflating: NewEye/train/NORMAL/NORMAL190.jpeg  \n",
            "  inflating: NewEye/train/NORMAL/NORMAL191.jpeg  \n",
            "  inflating: NewEye/train/NORMAL/NORMAL192.jpeg  \n",
            "  inflating: NewEye/train/NORMAL/NORMAL193.jpeg  \n",
            "  inflating: NewEye/train/NORMAL/NORMAL194.jpeg  \n",
            "  inflating: NewEye/train/NORMAL/NORMAL195.jpeg  \n",
            "  inflating: NewEye/train/NORMAL/NORMAL196.jpeg  \n",
            "  inflating: NewEye/train/NORMAL/NORMAL2.jpeg  \n",
            "  inflating: NewEye/train/NORMAL/NORMAL20.jpeg  \n",
            "  inflating: NewEye/train/NORMAL/NORMAL21.jpeg  \n",
            "  inflating: NewEye/train/NORMAL/NORMAL22.jpeg  \n",
            "  inflating: NewEye/train/NORMAL/NORMAL23.jpeg  \n",
            "  inflating: NewEye/train/NORMAL/NORMAL24.jpeg  \n",
            "  inflating: NewEye/train/NORMAL/NORMAL25.jpeg  \n",
            "  inflating: NewEye/train/NORMAL/NORMAL26.jpeg  \n",
            "  inflating: NewEye/train/NORMAL/NORMAL27.jpeg  \n",
            "  inflating: NewEye/train/NORMAL/NORMAL28.jpeg  \n",
            "  inflating: NewEye/train/NORMAL/NORMAL29.jpeg  \n",
            "  inflating: NewEye/train/NORMAL/NORMAL3.jpeg  \n",
            "  inflating: NewEye/train/NORMAL/NORMAL30.jpeg  \n",
            "  inflating: NewEye/train/NORMAL/NORMAL31.jpeg  \n",
            "  inflating: NewEye/train/NORMAL/NORMAL32.jpeg  \n",
            "  inflating: NewEye/train/NORMAL/NORMAL33.jpeg  \n",
            "  inflating: NewEye/train/NORMAL/NORMAL34.jpeg  \n",
            "  inflating: NewEye/train/NORMAL/NORMAL35.jpeg  \n",
            "  inflating: NewEye/train/NORMAL/NORMAL36.jpeg  \n",
            "  inflating: NewEye/train/NORMAL/NORMAL37.jpeg  \n",
            "  inflating: NewEye/train/NORMAL/NORMAL38.jpeg  \n",
            "  inflating: NewEye/train/NORMAL/NORMAL39.jpeg  \n",
            "  inflating: NewEye/train/NORMAL/NORMAL4.jpeg  \n",
            "  inflating: NewEye/train/NORMAL/NORMAL40.jpeg  \n",
            "  inflating: NewEye/train/NORMAL/NORMAL41.jpeg  \n",
            "  inflating: NewEye/train/NORMAL/NORMAL42.jpeg  \n",
            "  inflating: NewEye/train/NORMAL/NORMAL43.jpeg  \n",
            "  inflating: NewEye/train/NORMAL/NORMAL44.jpeg  \n",
            "  inflating: NewEye/train/NORMAL/NORMAL45.jpeg  \n",
            "  inflating: NewEye/train/NORMAL/NORMAL46.jpeg  \n",
            "  inflating: NewEye/train/NORMAL/NORMAL47.jpeg  \n",
            "  inflating: NewEye/train/NORMAL/NORMAL48.jpeg  \n",
            "  inflating: NewEye/train/NORMAL/NORMAL49.jpeg  \n",
            "  inflating: NewEye/train/NORMAL/NORMAL5.jpeg  \n",
            "  inflating: NewEye/train/NORMAL/NORMAL50.jpeg  \n",
            "  inflating: NewEye/train/NORMAL/NORMAL51.jpeg  \n",
            "  inflating: NewEye/train/NORMAL/NORMAL52.jpeg  \n",
            "  inflating: NewEye/train/NORMAL/NORMAL53.jpeg  \n",
            "  inflating: NewEye/train/NORMAL/NORMAL54.jpeg  \n",
            "  inflating: NewEye/train/NORMAL/NORMAL55.jpeg  \n",
            "  inflating: NewEye/train/NORMAL/NORMAL56.jpeg  \n",
            "  inflating: NewEye/train/NORMAL/NORMAL57.jpeg  \n",
            "  inflating: NewEye/train/NORMAL/NORMAL58.jpeg  \n",
            "  inflating: NewEye/train/NORMAL/NORMAL59.jpeg  \n",
            "  inflating: NewEye/train/NORMAL/NORMAL6.jpeg  \n",
            "  inflating: NewEye/train/NORMAL/NORMAL60.jpeg  \n",
            "  inflating: NewEye/train/NORMAL/NORMAL61.jpeg  \n",
            "  inflating: NewEye/train/NORMAL/NORMAL62.jpeg  \n",
            "  inflating: NewEye/train/NORMAL/NORMAL63.jpeg  \n",
            "  inflating: NewEye/train/NORMAL/NORMAL64.jpeg  \n",
            "  inflating: NewEye/train/NORMAL/NORMAL65.jpeg  \n",
            "  inflating: NewEye/train/NORMAL/NORMAL66.jpeg  \n",
            "  inflating: NewEye/train/NORMAL/NORMAL67.jpeg  \n",
            "  inflating: NewEye/train/NORMAL/NORMAL68.jpeg  \n",
            "  inflating: NewEye/train/NORMAL/NORMAL69.jpeg  \n",
            "  inflating: NewEye/train/NORMAL/NORMAL7.jpeg  \n",
            "  inflating: NewEye/train/NORMAL/NORMAL70.jpeg  \n",
            "  inflating: NewEye/train/NORMAL/NORMAL71.jpeg  \n",
            "  inflating: NewEye/train/NORMAL/NORMAL72.jpeg  \n",
            "  inflating: NewEye/train/NORMAL/NORMAL73.jpeg  \n",
            "  inflating: NewEye/train/NORMAL/NORMAL74.jpeg  \n",
            "  inflating: NewEye/train/NORMAL/NORMAL75.jpeg  \n",
            "  inflating: NewEye/train/NORMAL/NORMAL76.jpeg  \n",
            "  inflating: NewEye/train/NORMAL/NORMAL77.jpeg  \n",
            "  inflating: NewEye/train/NORMAL/NORMAL78.jpeg  \n",
            "  inflating: NewEye/train/NORMAL/NORMAL79.jpeg  \n",
            "  inflating: NewEye/train/NORMAL/NORMAL8.jpeg  \n",
            "  inflating: NewEye/train/NORMAL/NORMAL80.jpeg  \n",
            "  inflating: NewEye/train/NORMAL/NORMAL81.jpeg  \n",
            "  inflating: NewEye/train/NORMAL/NORMAL82.jpeg  \n",
            "  inflating: NewEye/train/NORMAL/NORMAL83.jpeg  \n",
            "  inflating: NewEye/train/NORMAL/NORMAL84.jpeg  \n",
            "  inflating: NewEye/train/NORMAL/NORMAL85.jpeg  \n",
            "  inflating: NewEye/train/NORMAL/NORMAL86.jpeg  \n",
            "  inflating: NewEye/train/NORMAL/NORMAL87.jpeg  \n",
            "  inflating: NewEye/train/NORMAL/NORMAL88.jpeg  \n",
            "  inflating: NewEye/train/NORMAL/NORMAL89.jpeg  \n",
            "  inflating: NewEye/train/NORMAL/NORMAL9.jpeg  \n",
            "  inflating: NewEye/train/NORMAL/NORMAL90.jpeg  \n",
            "  inflating: NewEye/train/NORMAL/NORMAL91.jpeg  \n",
            "  inflating: NewEye/train/NORMAL/NORMAL92.jpeg  \n",
            "  inflating: NewEye/train/NORMAL/NORMAL93.jpeg  \n",
            "  inflating: NewEye/train/NORMAL/NORMAL94.jpeg  \n",
            "  inflating: NewEye/train/NORMAL/NORMAL95.jpeg  \n",
            "  inflating: NewEye/train/NORMAL/NORMAL96.jpeg  \n",
            "  inflating: NewEye/train/NORMAL/NORMAL97.jpeg  \n",
            "  inflating: NewEye/train/NORMAL/NORMAL98.jpeg  \n",
            "  inflating: NewEye/train/NORMAL/NORMAL99.jpeg  \n"
          ],
          "name": "stdout"
        }
      ]
    },
    {
      "cell_type": "markdown",
      "metadata": {
        "id": "xeXrldqDrFP1"
      },
      "source": [
        "Determining the batch size"
      ]
    },
    {
      "cell_type": "code",
      "metadata": {
        "id": "UVeXFBxV2dgY"
      },
      "source": [
        "batch_size = 2"
      ],
      "execution_count": null,
      "outputs": []
    },
    {
      "cell_type": "markdown",
      "metadata": {
        "id": "y1LWSp4FrJTV"
      },
      "source": [
        "Defining the data generators"
      ]
    },
    {
      "cell_type": "code",
      "metadata": {
        "id": "FCWQSeFMN8OG"
      },
      "source": [
        "AMD_datagen = tf.keras.preprocessing.image.ImageDataGenerator(\n",
        "    rescale            = 1./255,\n",
        "    rotation_range     = 8,\n",
        "    width_shift_range  = 0.1,\n",
        "    height_shift_range = 0.1\n",
        ")\n",
        "\n",
        "CSR_datagen = tf.keras.preprocessing.image.ImageDataGenerator(\n",
        "    rescale            = 1./255,\n",
        "    rotation_range     = 8,\n",
        "    width_shift_range  = 0.1,\n",
        "    height_shift_range = 0.1\n",
        ")\n",
        "\n",
        "DR_datagen = tf.keras.preprocessing.image.ImageDataGenerator(\n",
        "    rescale            = 1./255,\n",
        "    rotation_range     = 8,\n",
        "    width_shift_range  = 0.1,\n",
        "    height_shift_range = 0.1\n",
        ")\n",
        "\n",
        "MH_datagen = tf.keras.preprocessing.image.ImageDataGenerator(\n",
        "    rescale            = 1./255,\n",
        "    rotation_range     = 8,\n",
        "    width_shift_range  = 0.1,\n",
        "    height_shift_range = 0.1\n",
        ")\n",
        "\n",
        "NORMAL_datagen = tf.keras.preprocessing.image.ImageDataGenerator(\n",
        "    rescale            = 1./255,\n",
        "    rotation_range     = 8,\n",
        "    width_shift_range  = 0.1,\n",
        "    height_shift_range = 0.1\n",
        ")"
      ],
      "execution_count": null,
      "outputs": []
    },
    {
      "cell_type": "code",
      "metadata": {
        "colab": {
          "base_uri": "https://localhost:8080/"
        },
        "id": "Qecr190rOQWS",
        "outputId": "6a2ef231-be11-4347-f83c-c292e73ec67c"
      },
      "source": [
        "AMD_data = AMD_datagen.flow_from_directory(\n",
        "    'NewEye/train/AMDD',\n",
        "    # target_size = (832,576),\n",
        "    target_size = (416,288),\n",
        "    batch_size  = batch_size,\n",
        "    color_mode  = \"grayscale\",\n",
        "    class_mode  = None,\n",
        "    shuffle     = True\n",
        ")"
      ],
      "execution_count": null,
      "outputs": [
        {
          "output_type": "stream",
          "text": [
            "Found 45 images belonging to 1 classes.\n"
          ],
          "name": "stdout"
        }
      ]
    },
    {
      "cell_type": "code",
      "metadata": {
        "colab": {
          "base_uri": "https://localhost:8080/"
        },
        "id": "VXkiZhhPmgIt",
        "outputId": "0165c4d7-87dd-4605-a4c6-c8985ce883aa"
      },
      "source": [
        "CSR_data = CSR_datagen.flow_from_directory(\n",
        "    'NewEye/train/CSRD',\n",
        "    target_size = (416,288),\n",
        "    batch_size  = batch_size,\n",
        "    color_mode  = \"grayscale\",\n",
        "    class_mode  = None,\n",
        "    shuffle     = True\n",
        ")"
      ],
      "execution_count": null,
      "outputs": [
        {
          "output_type": "stream",
          "text": [
            "Found 92 images belonging to 1 classes.\n"
          ],
          "name": "stdout"
        }
      ]
    },
    {
      "cell_type": "code",
      "metadata": {
        "colab": {
          "base_uri": "https://localhost:8080/"
        },
        "id": "aRB4F7jSyMwu",
        "outputId": "4bb0a905-4bfb-4e6d-c029-e955c47b4b1c"
      },
      "source": [
        "DR_data = DR_datagen.flow_from_directory(\n",
        "    'NewEye/train/DRD',\n",
        "    target_size = (416,288),\n",
        "    batch_size  = batch_size,\n",
        "    color_mode  = \"grayscale\",\n",
        "    class_mode  = None,\n",
        "    shuffle     = True\n",
        ")"
      ],
      "execution_count": null,
      "outputs": [
        {
          "output_type": "stream",
          "text": [
            "Found 97 images belonging to 1 classes.\n"
          ],
          "name": "stdout"
        }
      ]
    },
    {
      "cell_type": "code",
      "metadata": {
        "colab": {
          "base_uri": "https://localhost:8080/"
        },
        "id": "oFOAwkBSyR1Q",
        "outputId": "71392f2e-b21e-42e7-f45f-2cfb37c47b44"
      },
      "source": [
        "MH_data = MH_datagen.flow_from_directory(\n",
        "    'NewEye/train/MHD',\n",
        "    target_size = (416,288),\n",
        "    batch_size  = batch_size,\n",
        "    color_mode  = \"grayscale\",\n",
        "    class_mode  = None,\n",
        "    shuffle     = True\n",
        ")"
      ],
      "execution_count": null,
      "outputs": [
        {
          "output_type": "stream",
          "text": [
            "Found 92 images belonging to 1 classes.\n"
          ],
          "name": "stdout"
        }
      ]
    },
    {
      "cell_type": "code",
      "metadata": {
        "colab": {
          "base_uri": "https://localhost:8080/"
        },
        "id": "wzN9IGAw01_q",
        "outputId": "477eafee-e77b-4d91-ae6b-8ce6eebdac33"
      },
      "source": [
        "NORMAL_data = NORMAL_datagen.flow_from_directory(\n",
        "    'NewEye/train/NORMALD',\n",
        "    target_size = (416,288),\n",
        "    batch_size  = batch_size,\n",
        "    color_mode  = \"grayscale\",\n",
        "    class_mode  = None,\n",
        "    shuffle     = True\n",
        ")"
      ],
      "execution_count": null,
      "outputs": [
        {
          "output_type": "stream",
          "text": [
            "Found 196 images belonging to 1 classes.\n"
          ],
          "name": "stdout"
        }
      ]
    },
    {
      "cell_type": "code",
      "metadata": {
        "id": "tcbHEMHgsCB2",
        "colab": {
          "base_uri": "https://localhost:8080/"
        },
        "outputId": "388c6356-21f3-4551-a5f4-6c2189bb6f16"
      },
      "source": [
        "test_datagen = tf.keras.preprocessing.image.ImageDataGenerator(\n",
        "    rescale            = 1./255\n",
        ")\n",
        "\n",
        "test_data = test_datagen.flow_from_directory(\n",
        "    'NewEye/test',\n",
        "    target_size = (416,288),\n",
        "    batch_size  = batch_size,\n",
        "    color_mode  = \"grayscale\",\n",
        "    class_mode  = \"categorical\",\n",
        ")"
      ],
      "execution_count": null,
      "outputs": [
        {
          "output_type": "stream",
          "text": [
            "Found 50 images belonging to 11 classes.\n"
          ],
          "name": "stdout"
        }
      ]
    },
    {
      "cell_type": "markdown",
      "metadata": {
        "id": "MtEWTAZ8rO11"
      },
      "source": [
        "#Building the Model"
      ]
    },
    {
      "cell_type": "markdown",
      "metadata": {
        "id": "Qbajy4oUrQxF"
      },
      "source": [
        "Defining the Custom Activation Function"
      ]
    },
    {
      "cell_type": "code",
      "metadata": {
        "id": "CSIqIWclK6of"
      },
      "source": [
        "# custom activation function\n",
        "def custom_activation(output):\n",
        "  logexpsum = tf.keras.backend.sum(tf.keras.backend.exp(output), axis=-1, keepdims=True)\n",
        "  result    = logexpsum / (logexpsum + 1.0)\n",
        "\n",
        "  return result"
      ],
      "execution_count": null,
      "outputs": []
    },
    {
      "cell_type": "markdown",
      "metadata": {
        "id": "TSLC5QUIrWDl"
      },
      "source": [
        "Defining Discriminator and the Classification model"
      ]
    },
    {
      "cell_type": "code",
      "metadata": {
        "id": "b58ozpcQPr8N"
      },
      "source": [
        "def define_discriminator(in_shape=(416,288,1), n_classes = 5):\n",
        "  in_image = tf.keras.layers.Input(shape=in_shape)\n",
        "\n",
        "  fe = tf.keras.layers.Conv2D(128, (3,3), strides = (1,1), padding = \"same\")(in_image)\n",
        "  fe = tf.keras.layers.MaxPool2D(pool_size = (2,2) , strides = (2,2))(fe)\n",
        "  fe = tf.keras.layers.LeakyReLU(alpha=0.2)(fe)\n",
        "\n",
        "  fe = tf.keras.layers.Dropout(0.5)(fe)\n",
        "\n",
        "  fe = tf.keras.layers.Conv2D(128, (3,3), strides = (1,1), padding = \"same\")(fe)\n",
        "  fe = tf.keras.layers.MaxPool2D(pool_size = (2,2) , strides = (2,2))(fe)\n",
        "  fe = tf.keras.layers.LeakyReLU(alpha=0.2)(fe)\n",
        "\n",
        "  fe = tf.keras.layers.Dropout(0.5)(fe)\n",
        "\n",
        "  fe = tf.keras.layers.Conv2D(128, (3,3), strides = (1,1), padding = \"same\")(fe)\n",
        "  fe = tf.keras.layers.MaxPool2D(pool_size = (2,2) , strides = (2,2))(fe)\n",
        "  fe = tf.keras.layers.LeakyReLU(alpha=0.2)(fe)\n",
        "\n",
        "  fe = tf.keras.layers.Dropout(0.5)(fe)\n",
        "\n",
        "  fe = tf.keras.layers.Conv2D(128, (3,3), strides = (1,1), padding = \"same\")(fe)\n",
        "  fe = tf.keras.layers.MaxPool2D(pool_size = (2,2) , strides = (2,2))(fe)\n",
        "  fe = tf.keras.layers.LeakyReLU(alpha=0.2)(fe)\n",
        "\n",
        "  fe = tf.keras.layers.Dropout(0.5)(fe)\n",
        "\n",
        "  fe = tf.keras.layers.Conv2D(128, (3,3), strides = (1,1), padding = \"same\")(fe)\n",
        "  fe = tf.keras.layers.MaxPool2D(pool_size = (2,2) , strides = (2,2))(fe)\n",
        "  fe = tf.keras.layers.LeakyReLU(alpha=0.2)(fe)\n",
        "\n",
        "  # fe = tf.keras.layers.Conv2D(128, (3,3), strides = (1,1), padding = \"same\")(fe)\n",
        "  # fe = tf.keras.layers.MaxPool2D(pool_size = (2,2) , strides = (2,2))(fe)\n",
        "  # fe = tf.keras.layers.LeakyReLU(alpha=0.2)(fe)\n",
        "\n",
        "  fe = tf.keras.layers.Flatten()(fe)\n",
        "  fe = tf.keras.layers.Dropout(0.4)(fe)\n",
        "  fe = tf.keras.layers.Dense(n_classes)(fe)\n",
        "\n",
        "  c_out_layer = tf.keras.layers.Activation(\"softmax\")(fe)\n",
        "  c_model     = tf.keras.models.Model(in_image, c_out_layer)\n",
        "  c_model.compile(loss = \"categorical_crossentropy\", optimizer = tf.keras.optimizers.Adam(learning_rate = 0.00002,  beta_1 = 0.5), metrics = [\"accuracy\"])\n",
        "\n",
        "  d_out_layer = tf.keras.layers.Lambda(custom_activation)(fe)\n",
        "  d_model     = tf.keras.models.Model(in_image, d_out_layer)\n",
        "  d_model.compile(loss = \"binary_crossentropy\", optimizer = tf.keras.optimizers.Adam(learning_rate = 0.00002, beta_1 = 0.5))\n",
        "  return d_model, c_model"
      ],
      "execution_count": null,
      "outputs": []
    },
    {
      "cell_type": "markdown",
      "metadata": {
        "id": "QG3-zIv4raL8"
      },
      "source": [
        "Defining the Generator"
      ]
    },
    {
      "cell_type": "code",
      "metadata": {
        "id": "Q90Wyufvkd_E"
      },
      "source": [
        "def define_generator(latent_dim):\n",
        "  in_lat  = tf.keras.layers.Input(shape=(latent_dim,))\n",
        "  n_nodes = 128 * 13 * 9\n",
        "\n",
        "  gen = tf.keras.layers.Dense(n_nodes)(in_lat)\n",
        "  gen = tf.keras.layers.LeakyReLU(alpha = 0.2)(gen)\n",
        "  gen = tf.keras.layers.Reshape((13, 9, 128))(gen)\n",
        "\n",
        "  gen = tf.keras.layers.Conv2DTranspose(128, (4,4), strides = (2,2), padding = \"same\")(gen)\n",
        "  gen = tf.keras.layers.LeakyReLU(alpha = 0.2)(gen)\n",
        "\n",
        "  gen = tf.keras.layers.Conv2DTranspose(128, (4,4), strides = (2,2), padding = \"same\")(gen)\n",
        "  gen = tf.keras.layers.LeakyReLU(alpha = 0.2)(gen)\n",
        "\n",
        "  gen = tf.keras.layers.Conv2DTranspose(128, (4,4), strides = (2,2), padding = \"same\")(gen)\n",
        "  gen = tf.keras.layers.LeakyReLU(alpha = 0.2)(gen)\n",
        "\n",
        "  gen = tf.keras.layers.Conv2DTranspose(128, (4,4), strides = (2,2), padding = \"same\")(gen)\n",
        "  gen = tf.keras.layers.LeakyReLU(alpha = 0.2)(gen)\n",
        "\n",
        "  gen = tf.keras.layers.Conv2DTranspose(128, (4,4), strides = (2,2), padding = \"same\")(gen)\n",
        "  gen = tf.keras.layers.LeakyReLU(alpha = 0.2)(gen)\n",
        "\n",
        "  # gen = tf.keras.layers.Conv2DTranspose(128, (4,4), strides = (2,2), padding = \"same\")(gen)\n",
        "  # gen = tf.keras.layers.LeakyReLU(alpha = 0.2)(gen)\n",
        "\n",
        "  out_layer = tf.keras.layers.Conv2D(1, (7,7), activation = \"tanh\", padding = \"same\")(gen)\n",
        "\n",
        "  model = tf.keras.models.Model(in_lat, out_layer)\n",
        "  return model"
      ],
      "execution_count": null,
      "outputs": []
    },
    {
      "cell_type": "markdown",
      "metadata": {
        "id": "QW9M4kbJrcwL"
      },
      "source": [
        "Defining GAN"
      ]
    },
    {
      "cell_type": "code",
      "metadata": {
        "id": "m6yJSvbklsEz"
      },
      "source": [
        "def define_gan(g_model, d_model):\n",
        "  d_model.trainable = False\n",
        "\n",
        "  gan_output = d_model(g_model.output)\n",
        "  model      = tf.keras.models.Model(g_model.input, gan_output)\n",
        "  opt        = tf.keras.optimizers.Adam(learning_rate = 0.0002, beta_1 = 0.5)\n",
        "  model.compile(loss=\"binary_crossentropy\", optimizer=opt)\n",
        "\n",
        "  return model"
      ],
      "execution_count": null,
      "outputs": []
    },
    {
      "cell_type": "markdown",
      "metadata": {
        "id": "QkMhhjXrrevk"
      },
      "source": [
        "How to generate real samples"
      ]
    },
    {
      "cell_type": "code",
      "metadata": {
        "id": "muSdgXoMlxPt"
      },
      "source": [
        "def generate_real_samples():\n",
        "  X_AMD    = AMD_data.next()\n",
        "  Y_AMD    = np.array([1,0,0,0,0] * X_AMD.shape[0]).reshape(X_AMD.shape[0], -1)\n",
        "  X_CSR    = CSR_data.next()\n",
        "  Y_CSR    = np.array([0,1,0,0,0] * X_CSR.shape[0]).reshape(X_CSR.shape[0], -1)\n",
        "  X_DR     = DR_data.next()\n",
        "  Y_DR     = np.array([0,0,1,0,0] * X_DR.shape[0]).reshape(X_DR.shape[0], -1)\n",
        "  X_MH     = MH_data.next()\n",
        "  Y_MH     = np.array([0,0,0,1,0] * X_MH.shape[0]).reshape(X_MH.shape[0], -1)\n",
        "  X_NORMAL = NORMAL_data.next()\n",
        "  Y_NORMAL = np.array([0,0,0,0,1] * X_NORMAL.shape[0]).reshape(X_NORMAL.shape[0], -1)\n",
        "\n",
        "  X       = np.concatenate([X_AMD, X_CSR, X_DR, X_MH, X_NORMAL])\n",
        "  labels  = np.concatenate([Y_AMD, Y_CSR, Y_DR, Y_MH, Y_NORMAL])\n",
        "  y       = np.ones((X.shape[0], 1))\n",
        "\n",
        "  return [X, labels], y"
      ],
      "execution_count": null,
      "outputs": []
    },
    {
      "cell_type": "markdown",
      "metadata": {
        "id": "KW5VYGoCrhK1"
      },
      "source": [
        "How to generate fake samples"
      ]
    },
    {
      "cell_type": "code",
      "metadata": {
        "id": "Ox7_mbT-mRtw"
      },
      "source": [
        "def generate_latent_points(latent_dim, n_samples):\n",
        "  z_input = np.random.randn(latent_dim * n_samples)\n",
        "  z_input = z_input.reshape(n_samples, latent_dim)\n",
        "  return z_input\n",
        "\n",
        "def generate_fake_samples(generator, latent_dim, n_samples):\n",
        "  z_input = generate_latent_points(latent_dim, n_samples)\n",
        "  images  = generator.predict(z_input)\n",
        "  y       = np.zeros((n_samples, 1))\n",
        "  return images, y"
      ],
      "execution_count": null,
      "outputs": []
    },
    {
      "cell_type": "markdown",
      "metadata": {
        "id": "RWKf7AhCrn21"
      },
      "source": [
        "#Training the Model"
      ]
    },
    {
      "cell_type": "markdown",
      "metadata": {
        "id": "9LPAqTq3rpnU"
      },
      "source": [
        "Defining the train function"
      ]
    },
    {
      "cell_type": "code",
      "metadata": {
        "id": "fQQuZO6PmbS-"
      },
      "source": [
        "def train(g_model, d_model, c_model, gan_model, latent_dim, n_epochs , batch_size):\n",
        "  bat_per_epo = int(522/(5*batch_size))\n",
        "\n",
        "  for i in range(bat_per_epo * n_epochs):\n",
        "    [Xsup_real, ysup_real], y_real = generate_real_samples()\n",
        "    c_loss, c_acc                  = c_model.train_on_batch(Xsup_real, ysup_real)\n",
        "\n",
        "    d_loss1        = d_model.train_on_batch(Xsup_real, y_real)\n",
        "    X_fake, y_fake = generate_fake_samples(g_model, latent_dim, 5 * batch_size)\n",
        "    d_loss2        = d_model.train_on_batch(X_fake, y_fake)\n",
        "\n",
        "    X_gan, y_gan = generate_latent_points(latent_dim, 5 * batch_size), np.ones((5 * batch_size, 1))\n",
        "    g_loss       = gan_model.train_on_batch(X_gan, y_gan)\n",
        "\n",
        "    print(\">%d, c[%.3f,%.0f], d[%.3f,%.3f], g[%.3f]\" % (i+1, c_loss, c_acc*100, d_loss1, d_loss2, g_loss))\n",
        "\n",
        "  return c_model.evaluate(test_data)"
      ],
      "execution_count": null,
      "outputs": []
    },
    {
      "cell_type": "markdown",
      "metadata": {
        "id": "mAWp3f49rrvc"
      },
      "source": [
        "Defining the models and latent dimension"
      ]
    },
    {
      "cell_type": "code",
      "metadata": {
        "id": "eJyA8UI-Ik9f"
      },
      "source": [
        "latent_dim = 150\n",
        "\n",
        "d_model, c_model = define_discriminator()\n",
        "g_model          = define_generator(latent_dim)\n",
        "gan_model        = define_gan(g_model, d_model)"
      ],
      "execution_count": null,
      "outputs": []
    },
    {
      "cell_type": "markdown",
      "metadata": {
        "id": "7eEoaZPZruPk"
      },
      "source": [
        "Loading model weights"
      ]
    },
    {
      "cell_type": "code",
      "metadata": {
        "colab": {
          "base_uri": "https://localhost:8080/"
        },
        "id": "i118y9u1s01l",
        "outputId": "ed1ceb18-47ec-4be0-e265-3b190bbaaa8d"
      },
      "source": [
        "d_model.load_weights('/content/drive/MyDrive/GAN_weights_NEW/saved_model/c_model/w')\n",
        "c_model.load_weights('/content/drive/MyDrive/GAN_weights_NEW/saved_model/d_model/w')\n",
        "g_model.load_weights('/content/drive/MyDrive/GAN_weights_NEW/saved_model/g_model/w')"
      ],
      "execution_count": null,
      "outputs": [
        {
          "output_type": "execute_result",
          "data": {
            "text/plain": [
              "<tensorflow.python.training.tracking.util.CheckpointLoadStatus at 0x7fe961772e10>"
            ]
          },
          "metadata": {
            "tags": []
          },
          "execution_count": 18
        }
      ]
    },
    {
      "cell_type": "markdown",
      "metadata": {
        "id": "UsNY2nTGrw_t"
      },
      "source": [
        "Training the model and saving the Accuracy and Loss of test data in history"
      ]
    },
    {
      "cell_type": "code",
      "metadata": {
        "id": "TLYL6grIMoSg"
      },
      "source": [
        "history = []"
      ],
      "execution_count": null,
      "outputs": []
    },
    {
      "cell_type": "code",
      "metadata": {
        "id": "kGwijQyNHnE7"
      },
      "source": [
        "with open('/content/drive/MyDrive/GAN_weights_NEW/pickle/history.pkl', 'rb') as f:\n",
        "  history = pickle.load(f)"
      ],
      "execution_count": null,
      "outputs": []
    },
    {
      "cell_type": "code",
      "metadata": {
        "colab": {
          "base_uri": "https://localhost:8080/",
          "height": 1000
        },
        "id": "hsOOnp1Y6tvp",
        "outputId": "941cf840-7a56-4832-fa58-4e6abe9da668"
      },
      "source": [
        "for i in range(100):\n",
        "  history.append(train(g_model, d_model, c_model, gan_model, latent_dim, n_epochs = 1, batch_size = batch_size))"
      ],
      "execution_count": null,
      "outputs": [
        {
          "output_type": "stream",
          "text": [
            ">1, c[1.657,30], d[0.158,1.793], g[0.182]\n",
            ">2, c[1.586,30], d[0.145,1.793], g[0.182]\n",
            ">3, c[1.617,30], d[0.144,1.796], g[0.182]\n",
            ">4, c[1.750,10], d[0.134,1.800], g[0.181]\n",
            ">5, c[1.830,10], d[0.121,1.803], g[0.180]\n",
            ">6, c[1.696,10], d[0.105,1.814], g[0.178]\n",
            ">7, c[1.636,20], d[0.109,1.832], g[0.174]\n",
            ">8, c[1.707,20], d[0.100,1.863], g[0.170]\n",
            ">9, c[1.652,10], d[0.104,1.926], g[0.163]\n",
            ">10, c[1.547,20], d[0.107,2.001], g[0.155]\n",
            ">11, c[1.652,30], d[0.122,2.075], g[0.152]\n",
            ">12, c[1.599,20], d[0.132,2.169], g[0.168]\n",
            ">13, c[1.737,10], d[0.160,1.911], g[0.207]\n",
            ">14, c[1.549,30], d[0.176,1.658], g[0.321]\n",
            ">15, c[1.712,10], d[0.185,1.207], g[0.390]\n",
            ">16, c[1.665,0], d[0.225,1.367], g[0.337]\n",
            ">17, c[1.727,10], d[0.244,1.531], g[0.252]\n",
            ">18, c[1.683,10], d[0.266,1.625], g[0.218]\n",
            ">19, c[1.656,10], d[0.242,1.696], g[0.205]\n",
            ">20, c[1.623,30], d[0.259,1.719], g[0.197]\n",
            ">21, c[1.610,30], d[0.256,1.743], g[0.193]\n",
            ">22, c[1.791,20], d[0.253,1.755], g[0.190]\n",
            ">23, c[1.525,33], d[0.250,1.762], g[0.189]\n",
            ">24, c[1.726,20], d[0.234,1.766], g[0.187]\n",
            ">25, c[1.473,40], d[0.243,1.771], g[0.186]\n",
            ">26, c[1.681,10], d[0.246,1.776], g[0.185]\n",
            ">27, c[1.605,30], d[0.234,1.780], g[0.185]\n",
            ">28, c[1.744,30], d[0.229,1.782], g[0.185]\n",
            ">29, c[1.581,20], d[0.222,1.782], g[0.184]\n",
            ">30, c[1.554,30], d[0.208,1.781], g[0.185]\n",
            ">31, c[1.592,40], d[0.213,1.780], g[0.185]\n",
            ">32, c[1.396,50], d[0.214,1.780], g[0.185]\n",
            ">33, c[1.554,30], d[0.208,1.780], g[0.185]\n",
            ">34, c[1.667,20], d[0.200,1.780], g[0.184]\n",
            ">35, c[1.633,30], d[0.198,1.781], g[0.185]\n",
            ">36, c[1.535,40], d[0.188,1.779], g[0.185]\n",
            ">37, c[1.726,10], d[0.193,1.779], g[0.185]\n",
            ">38, c[1.620,20], d[0.191,1.780], g[0.185]\n",
            ">39, c[1.460,40], d[0.186,1.779], g[0.185]\n",
            ">40, c[1.560,40], d[0.184,1.778], g[0.185]\n",
            ">41, c[1.597,20], d[0.188,1.779], g[0.185]\n",
            ">42, c[1.428,60], d[0.182,1.780], g[0.185]\n",
            ">43, c[1.719,0], d[0.178,1.778], g[0.185]\n",
            ">44, c[1.784,20], d[0.159,1.777], g[0.185]\n",
            ">45, c[1.618,0], d[0.169,1.778], g[0.185]\n",
            ">46, c[1.623,11], d[0.158,1.777], g[0.185]\n",
            ">47, c[1.739,0], d[0.169,1.781], g[0.185]\n",
            ">48, c[1.423,60], d[0.150,1.778], g[0.185]\n",
            ">49, c[1.556,33], d[0.155,1.777], g[0.185]\n",
            ">50, c[1.574,40], d[0.158,1.779], g[0.185]\n",
            ">51, c[1.627,40], d[0.151,1.781], g[0.185]\n",
            ">52, c[1.534,30], d[0.148,1.784], g[0.184]\n"
          ],
          "name": "stdout"
        },
        {
          "output_type": "error",
          "ename": "InvalidArgumentError",
          "evalue": "ignored",
          "traceback": [
            "\u001b[0;31m---------------------------------------------------------------------------\u001b[0m",
            "\u001b[0;31mInvalidArgumentError\u001b[0m                      Traceback (most recent call last)",
            "\u001b[0;32m<ipython-input-20-34bc6568b60d>\u001b[0m in \u001b[0;36m<module>\u001b[0;34m()\u001b[0m\n\u001b[1;32m      1\u001b[0m \u001b[0;32mfor\u001b[0m \u001b[0mi\u001b[0m \u001b[0;32min\u001b[0m \u001b[0mrange\u001b[0m\u001b[0;34m(\u001b[0m\u001b[0;36m100\u001b[0m\u001b[0;34m)\u001b[0m\u001b[0;34m:\u001b[0m\u001b[0;34m\u001b[0m\u001b[0;34m\u001b[0m\u001b[0m\n\u001b[0;32m----> 2\u001b[0;31m   \u001b[0mhistory\u001b[0m\u001b[0;34m.\u001b[0m\u001b[0mappend\u001b[0m\u001b[0;34m(\u001b[0m\u001b[0mtrain\u001b[0m\u001b[0;34m(\u001b[0m\u001b[0mg_model\u001b[0m\u001b[0;34m,\u001b[0m \u001b[0md_model\u001b[0m\u001b[0;34m,\u001b[0m \u001b[0mc_model\u001b[0m\u001b[0;34m,\u001b[0m \u001b[0mgan_model\u001b[0m\u001b[0;34m,\u001b[0m \u001b[0mlatent_dim\u001b[0m\u001b[0;34m,\u001b[0m \u001b[0mn_epochs\u001b[0m \u001b[0;34m=\u001b[0m \u001b[0;36m1\u001b[0m\u001b[0;34m,\u001b[0m \u001b[0mbatch_size\u001b[0m \u001b[0;34m=\u001b[0m \u001b[0mbatch_size\u001b[0m\u001b[0;34m)\u001b[0m\u001b[0;34m)\u001b[0m\u001b[0;34m\u001b[0m\u001b[0;34m\u001b[0m\u001b[0m\n\u001b[0m",
            "\u001b[0;32m<ipython-input-16-6dd7ebe0753c>\u001b[0m in \u001b[0;36mtrain\u001b[0;34m(g_model, d_model, c_model, gan_model, latent_dim, n_epochs, batch_size)\u001b[0m\n\u001b[1;32m     15\u001b[0m     \u001b[0mprint\u001b[0m\u001b[0;34m(\u001b[0m\u001b[0;34m\">%d, c[%.3f,%.0f], d[%.3f,%.3f], g[%.3f]\"\u001b[0m \u001b[0;34m%\u001b[0m \u001b[0;34m(\u001b[0m\u001b[0mi\u001b[0m\u001b[0;34m+\u001b[0m\u001b[0;36m1\u001b[0m\u001b[0;34m,\u001b[0m \u001b[0mc_loss\u001b[0m\u001b[0;34m,\u001b[0m \u001b[0mc_acc\u001b[0m\u001b[0;34m*\u001b[0m\u001b[0;36m100\u001b[0m\u001b[0;34m,\u001b[0m \u001b[0md_loss1\u001b[0m\u001b[0;34m,\u001b[0m \u001b[0md_loss2\u001b[0m\u001b[0;34m,\u001b[0m \u001b[0mg_loss\u001b[0m\u001b[0;34m)\u001b[0m\u001b[0;34m)\u001b[0m\u001b[0;34m\u001b[0m\u001b[0;34m\u001b[0m\u001b[0m\n\u001b[1;32m     16\u001b[0m \u001b[0;34m\u001b[0m\u001b[0m\n\u001b[0;32m---> 17\u001b[0;31m   \u001b[0;32mreturn\u001b[0m \u001b[0mc_model\u001b[0m\u001b[0;34m.\u001b[0m\u001b[0mevaluate\u001b[0m\u001b[0;34m(\u001b[0m\u001b[0mtest_data\u001b[0m\u001b[0;34m)\u001b[0m\u001b[0;34m\u001b[0m\u001b[0;34m\u001b[0m\u001b[0m\n\u001b[0m",
            "\u001b[0;32m/usr/local/lib/python3.7/dist-packages/tensorflow/python/keras/engine/training.py\u001b[0m in \u001b[0;36mevaluate\u001b[0;34m(self, x, y, batch_size, verbose, sample_weight, steps, callbacks, max_queue_size, workers, use_multiprocessing, return_dict, **kwargs)\u001b[0m\n\u001b[1;32m   1487\u001b[0m             \u001b[0;32mwith\u001b[0m \u001b[0mtrace\u001b[0m\u001b[0;34m.\u001b[0m\u001b[0mTrace\u001b[0m\u001b[0;34m(\u001b[0m\u001b[0;34m'test'\u001b[0m\u001b[0;34m,\u001b[0m \u001b[0mstep_num\u001b[0m\u001b[0;34m=\u001b[0m\u001b[0mstep\u001b[0m\u001b[0;34m,\u001b[0m \u001b[0m_r\u001b[0m\u001b[0;34m=\u001b[0m\u001b[0;36m1\u001b[0m\u001b[0;34m)\u001b[0m\u001b[0;34m:\u001b[0m\u001b[0;34m\u001b[0m\u001b[0;34m\u001b[0m\u001b[0m\n\u001b[1;32m   1488\u001b[0m               \u001b[0mcallbacks\u001b[0m\u001b[0;34m.\u001b[0m\u001b[0mon_test_batch_begin\u001b[0m\u001b[0;34m(\u001b[0m\u001b[0mstep\u001b[0m\u001b[0;34m)\u001b[0m\u001b[0;34m\u001b[0m\u001b[0;34m\u001b[0m\u001b[0m\n\u001b[0;32m-> 1489\u001b[0;31m               \u001b[0mtmp_logs\u001b[0m \u001b[0;34m=\u001b[0m \u001b[0mself\u001b[0m\u001b[0;34m.\u001b[0m\u001b[0mtest_function\u001b[0m\u001b[0;34m(\u001b[0m\u001b[0miterator\u001b[0m\u001b[0;34m)\u001b[0m\u001b[0;34m\u001b[0m\u001b[0;34m\u001b[0m\u001b[0m\n\u001b[0m\u001b[1;32m   1490\u001b[0m               \u001b[0;32mif\u001b[0m \u001b[0mdata_handler\u001b[0m\u001b[0;34m.\u001b[0m\u001b[0mshould_sync\u001b[0m\u001b[0;34m:\u001b[0m\u001b[0;34m\u001b[0m\u001b[0;34m\u001b[0m\u001b[0m\n\u001b[1;32m   1491\u001b[0m                 \u001b[0mcontext\u001b[0m\u001b[0;34m.\u001b[0m\u001b[0masync_wait\u001b[0m\u001b[0;34m(\u001b[0m\u001b[0;34m)\u001b[0m\u001b[0;34m\u001b[0m\u001b[0;34m\u001b[0m\u001b[0m\n",
            "\u001b[0;32m/usr/local/lib/python3.7/dist-packages/tensorflow/python/eager/def_function.py\u001b[0m in \u001b[0;36m__call__\u001b[0;34m(self, *args, **kwds)\u001b[0m\n\u001b[1;32m    887\u001b[0m \u001b[0;34m\u001b[0m\u001b[0m\n\u001b[1;32m    888\u001b[0m       \u001b[0;32mwith\u001b[0m \u001b[0mOptionalXlaContext\u001b[0m\u001b[0;34m(\u001b[0m\u001b[0mself\u001b[0m\u001b[0;34m.\u001b[0m\u001b[0m_jit_compile\u001b[0m\u001b[0;34m)\u001b[0m\u001b[0;34m:\u001b[0m\u001b[0;34m\u001b[0m\u001b[0;34m\u001b[0m\u001b[0m\n\u001b[0;32m--> 889\u001b[0;31m         \u001b[0mresult\u001b[0m \u001b[0;34m=\u001b[0m \u001b[0mself\u001b[0m\u001b[0;34m.\u001b[0m\u001b[0m_call\u001b[0m\u001b[0;34m(\u001b[0m\u001b[0;34m*\u001b[0m\u001b[0margs\u001b[0m\u001b[0;34m,\u001b[0m \u001b[0;34m**\u001b[0m\u001b[0mkwds\u001b[0m\u001b[0;34m)\u001b[0m\u001b[0;34m\u001b[0m\u001b[0;34m\u001b[0m\u001b[0m\n\u001b[0m\u001b[1;32m    890\u001b[0m \u001b[0;34m\u001b[0m\u001b[0m\n\u001b[1;32m    891\u001b[0m       \u001b[0mnew_tracing_count\u001b[0m \u001b[0;34m=\u001b[0m \u001b[0mself\u001b[0m\u001b[0;34m.\u001b[0m\u001b[0mexperimental_get_tracing_count\u001b[0m\u001b[0;34m(\u001b[0m\u001b[0;34m)\u001b[0m\u001b[0;34m\u001b[0m\u001b[0;34m\u001b[0m\u001b[0m\n",
            "\u001b[0;32m/usr/local/lib/python3.7/dist-packages/tensorflow/python/eager/def_function.py\u001b[0m in \u001b[0;36m_call\u001b[0;34m(self, *args, **kwds)\u001b[0m\n\u001b[1;32m    955\u001b[0m       \u001b[0;31m# If we did not create any variables the trace we have is good enough.\u001b[0m\u001b[0;34m\u001b[0m\u001b[0;34m\u001b[0m\u001b[0;34m\u001b[0m\u001b[0m\n\u001b[1;32m    956\u001b[0m       return self._concrete_stateful_fn._call_flat(\n\u001b[0;32m--> 957\u001b[0;31m           filtered_flat_args, self._concrete_stateful_fn.captured_inputs)  # pylint: disable=protected-access\n\u001b[0m\u001b[1;32m    958\u001b[0m \u001b[0;34m\u001b[0m\u001b[0m\n\u001b[1;32m    959\u001b[0m     \u001b[0;32mdef\u001b[0m \u001b[0mfn_with_cond\u001b[0m\u001b[0;34m(\u001b[0m\u001b[0minner_args\u001b[0m\u001b[0;34m,\u001b[0m \u001b[0minner_kwds\u001b[0m\u001b[0;34m,\u001b[0m \u001b[0minner_filtered_flat_args\u001b[0m\u001b[0;34m)\u001b[0m\u001b[0;34m:\u001b[0m\u001b[0;34m\u001b[0m\u001b[0;34m\u001b[0m\u001b[0m\n",
            "\u001b[0;32m/usr/local/lib/python3.7/dist-packages/tensorflow/python/eager/function.py\u001b[0m in \u001b[0;36m_call_flat\u001b[0;34m(self, args, captured_inputs, cancellation_manager)\u001b[0m\n\u001b[1;32m   1959\u001b[0m       \u001b[0;31m# No tape is watching; skip to running the function.\u001b[0m\u001b[0;34m\u001b[0m\u001b[0;34m\u001b[0m\u001b[0;34m\u001b[0m\u001b[0m\n\u001b[1;32m   1960\u001b[0m       return self._build_call_outputs(self._inference_function.call(\n\u001b[0;32m-> 1961\u001b[0;31m           ctx, args, cancellation_manager=cancellation_manager))\n\u001b[0m\u001b[1;32m   1962\u001b[0m     forward_backward = self._select_forward_and_backward_functions(\n\u001b[1;32m   1963\u001b[0m         \u001b[0margs\u001b[0m\u001b[0;34m,\u001b[0m\u001b[0;34m\u001b[0m\u001b[0;34m\u001b[0m\u001b[0m\n",
            "\u001b[0;32m/usr/local/lib/python3.7/dist-packages/tensorflow/python/eager/function.py\u001b[0m in \u001b[0;36mcall\u001b[0;34m(self, ctx, args, cancellation_manager)\u001b[0m\n\u001b[1;32m    594\u001b[0m               \u001b[0minputs\u001b[0m\u001b[0;34m=\u001b[0m\u001b[0margs\u001b[0m\u001b[0;34m,\u001b[0m\u001b[0;34m\u001b[0m\u001b[0;34m\u001b[0m\u001b[0m\n\u001b[1;32m    595\u001b[0m               \u001b[0mattrs\u001b[0m\u001b[0;34m=\u001b[0m\u001b[0mattrs\u001b[0m\u001b[0;34m,\u001b[0m\u001b[0;34m\u001b[0m\u001b[0;34m\u001b[0m\u001b[0m\n\u001b[0;32m--> 596\u001b[0;31m               ctx=ctx)\n\u001b[0m\u001b[1;32m    597\u001b[0m         \u001b[0;32melse\u001b[0m\u001b[0;34m:\u001b[0m\u001b[0;34m\u001b[0m\u001b[0;34m\u001b[0m\u001b[0m\n\u001b[1;32m    598\u001b[0m           outputs = execute.execute_with_cancellation(\n",
            "\u001b[0;32m/usr/local/lib/python3.7/dist-packages/tensorflow/python/eager/execute.py\u001b[0m in \u001b[0;36mquick_execute\u001b[0;34m(op_name, num_outputs, inputs, attrs, ctx, name)\u001b[0m\n\u001b[1;32m     58\u001b[0m     \u001b[0mctx\u001b[0m\u001b[0;34m.\u001b[0m\u001b[0mensure_initialized\u001b[0m\u001b[0;34m(\u001b[0m\u001b[0;34m)\u001b[0m\u001b[0;34m\u001b[0m\u001b[0;34m\u001b[0m\u001b[0m\n\u001b[1;32m     59\u001b[0m     tensors = pywrap_tfe.TFE_Py_Execute(ctx._handle, device_name, op_name,\n\u001b[0;32m---> 60\u001b[0;31m                                         inputs, attrs, num_outputs)\n\u001b[0m\u001b[1;32m     61\u001b[0m   \u001b[0;32mexcept\u001b[0m \u001b[0mcore\u001b[0m\u001b[0;34m.\u001b[0m\u001b[0m_NotOkStatusException\u001b[0m \u001b[0;32mas\u001b[0m \u001b[0me\u001b[0m\u001b[0;34m:\u001b[0m\u001b[0;34m\u001b[0m\u001b[0;34m\u001b[0m\u001b[0m\n\u001b[1;32m     62\u001b[0m     \u001b[0;32mif\u001b[0m \u001b[0mname\u001b[0m \u001b[0;32mis\u001b[0m \u001b[0;32mnot\u001b[0m \u001b[0;32mNone\u001b[0m\u001b[0;34m:\u001b[0m\u001b[0;34m\u001b[0m\u001b[0;34m\u001b[0m\u001b[0m\n",
            "\u001b[0;31mInvalidArgumentError\u001b[0m:  logits and labels must be broadcastable: logits_size=[2,5] labels_size=[2,11]\n\t [[node categorical_crossentropy/softmax_cross_entropy_with_logits (defined at <ipython-input-16-6dd7ebe0753c>:17) ]] [Op:__inference_test_function_10770]\n\nFunction call stack:\ntest_function\n"
          ]
        }
      ]
    },
    {
      "cell_type": "markdown",
      "metadata": {
        "id": "3BbWkl0FqpBO"
      },
      "source": [
        "Saving Weights"
      ]
    },
    {
      "cell_type": "code",
      "metadata": {
        "id": "ZDd6vdnndozM"
      },
      "source": [
        "d_model.save_weights('/content/drive/MyDrive/GAN_weights_NEW/saved_model/c_model/w')\n",
        "c_model.save_weights('/content/drive/MyDrive/GAN_weights_NEW/saved_model/d_model/w')\n",
        "g_model.save_weights('/content/drive/MyDrive/GAN_weights_NEW/saved_model/g_model/w')\n",
        "\n",
        "with open('/content/drive/MyDrive/GAN_weights_NEW/pickle/history.pkl', 'wb') as f:\n",
        "  pickle.dump(history, f)"
      ],
      "execution_count": null,
      "outputs": []
    },
    {
      "cell_type": "markdown",
      "metadata": {
        "id": "weB4R0vNqkZP"
      },
      "source": [
        "# Testing Generative Model"
      ]
    },
    {
      "cell_type": "code",
      "metadata": {
        "id": "yp66LcyDJGuV",
        "colab": {
          "base_uri": "https://localhost:8080/",
          "height": 286
        },
        "outputId": "0be4c8c4-d2d4-4f46-d28c-10a22a30886a"
      },
      "source": [
        "fake = g_model.predict(generate_latent_points(100, 1))\n",
        "plt.imshow(fake[0,:,:,0], cmap= \"gray\")"
      ],
      "execution_count": null,
      "outputs": [
        {
          "output_type": "execute_result",
          "data": {
            "text/plain": [
              "<matplotlib.image.AxesImage at 0x7f4840066a10>"
            ]
          },
          "metadata": {
            "tags": []
          },
          "execution_count": 47
        },
        {
          "output_type": "display_data",
          "data": {
            "image/png": "[encoded data removed]",
            "text/plain": [
              "<Figure size 432x288 with 1 Axes>"
            ]
          },
          "metadata": {
            "tags": [],
            "needs_background": "light"
          }
        }
      ]
    },
    {
      "cell_type": "code",
      "metadata": {
        "id": "Q5pXS5wrsAMN",
        "colab": {
          "base_uri": "https://localhost:8080/"
        },
        "outputId": "8381396a-ebf4-45fb-f961-b5b04cf03213"
      },
      "source": [
        "test_AMDgen = tf.keras.preprocessing.image.ImageDataGenerator(\n",
        "    rescale            = 1./255,\n",
        ")\n",
        "\n",
        "test_AMD = test_AMDgen.flow_from_directory(\n",
        "    'NewEye/test/AMDD',\n",
        "    target_size = (416,288),\n",
        "    batch_size  = batch_size * 4,\n",
        "    color_mode  = \"grayscale\",\n",
        "    class_mode  = None,\n",
        ")\n",
        "\n",
        "test_CSRgen = tf.keras.preprocessing.image.ImageDataGenerator(\n",
        "    rescale            = 1./255,\n",
        ")\n",
        "\n",
        "test_CSR = test_CSRgen.flow_from_directory(\n",
        "    'NewEye/test/CSRD',\n",
        "    target_size = (416,288),\n",
        "    batch_size  = batch_size * 4,\n",
        "    color_mode  = \"grayscale\",\n",
        "    class_mode  = None,\n",
        ")\n",
        "\n",
        "test_DRgen = tf.keras.preprocessing.image.ImageDataGenerator(\n",
        "    rescale            = 1./255,\n",
        ")\n",
        "\n",
        "test_DR = test_DRgen.flow_from_directory(\n",
        "    'NewEye/test/DRD',\n",
        "    target_size = (416,288),\n",
        "    batch_size  = batch_size * 4,\n",
        "    color_mode  = \"grayscale\",\n",
        "    class_mode  = None,\n",
        ")\n",
        "\n",
        "test_NORMALgen = tf.keras.preprocessing.image.ImageDataGenerator(\n",
        "    rescale            = 1./255,\n",
        ")\n",
        "\n",
        "test_NORMAL = test_NORMALgen.flow_from_directory(\n",
        "    'NewEye/test/NORMALD',\n",
        "    target_size = (416,288),\n",
        "    batch_size  = batch_size * 4,\n",
        "    color_mode  = \"grayscale\",\n",
        "    class_mode  = None,\n",
        ")\n",
        "\n",
        "test_MHgen = tf.keras.preprocessing.image.ImageDataGenerator(\n",
        "    rescale            = 1./255,\n",
        ")\n",
        "\n",
        "test_MH = test_MHgen.flow_from_directory(\n",
        "    'NewEye/test/MHD',\n",
        "    target_size = (416,288),\n",
        "    batch_size  = batch_size * 4,\n",
        "    color_mode  = \"grayscale\",\n",
        "    class_mode  = None,\n",
        ")"
      ],
      "execution_count": null,
      "outputs": [
        {
          "output_type": "stream",
          "text": [
            "Found 10 images belonging to 2 classes.\n",
            "Found 10 images belonging to 2 classes.\n",
            "Found 10 images belonging to 2 classes.\n",
            "Found 10 images belonging to 1 classes.\n",
            "Found 10 images belonging to 1 classes.\n"
          ],
          "name": "stdout"
        }
      ]
    },
    {
      "cell_type": "code",
      "metadata": {
        "id": "ZSj9n8O9ez91"
      },
      "source": [
        "predictAMD = c_model.predict(test_AMD)\n",
        "predictNORMAL = c_model.predict(test_NORMAL)\n",
        "predictDR = c_model.predict(test_DR)\n",
        "predictCSR = c_model.predict(test_CSR)\n",
        "predictMH = c_model.predict(test_MH)\n",
        "\n",
        "predictAMD = [np.argmax(i) for i in predictAMD]\n",
        "predictNORMAL = [np.argmax(i) for i in predictNORMAL]\n",
        "predictDR = [np.argmax(i) for i in predictDR]\n",
        "predictCSR = [np.argmax(i) for i in predictCSR]\n",
        "predictMH = [np.argmax(i) for i in predictMH]"
      ],
      "execution_count": null,
      "outputs": []
    },
    {
      "cell_type": "code",
      "metadata": {
        "id": "yTo0D0YEfAhd"
      },
      "source": [
        "true_AMD    = np.array([0] * 10)\n",
        "true_NORMAL = np.array([4] * 10)\n",
        "true_CSR    = np.array([1] * 10)\n",
        "true_DR     = np.array([2] * 10)\n",
        "true_MH     = np.array([3] * 10)"
      ],
      "execution_count": null,
      "outputs": []
    },
    {
      "cell_type": "code",
      "metadata": {
        "colab": {
          "base_uri": "https://localhost:8080/"
        },
        "id": "W6r43U5gfHKY",
        "outputId": "2c93498d-220b-4978-fd97-31080b842d55"
      },
      "source": [
        "AMDmetrics = tf.keras.metrics.Accuracy()\n",
        "AMDmetrics.update_state(true_AMD, predictAMD)\n",
        "NORMALmetrics = tf.keras.metrics.Accuracy()\n",
        "NORMALmetrics.update_state(true_NORMAL, predictNORMAL)\n",
        "CSRmetrics = tf.keras.metrics.Accuracy()\n",
        "CSRmetrics.update_state(true_CSR, predictCSR)\n",
        "DRmetrics = tf.keras.metrics.Accuracy()\n",
        "DRmetrics.update_state(true_DR, predictDR)\n",
        "MHmetrics = tf.keras.metrics.Accuracy()\n",
        "MHmetrics.update_state(true_MH, predictMH)\n",
        "print(f\"AMD: {AMDmetrics.result().numpy()}, CSR: {CSRmetrics.result().numpy()}, NORMAL: {NORMALmetrics.result().numpy()}, DR: {DRmetrics.result().numpy()}, MH: {MHmetrics.result().numpy()}\")"
      ],
      "execution_count": null,
      "outputs": [
        {
          "output_type": "stream",
          "text": [
            "AMD: 0.800000011920929, CSR: 0.6000000238418579, NORMAL: 1.0, DR: 0.10000000149011612, MH: 0.0\n"
          ],
          "name": "stdout"
        }
      ]
    },
    {
      "cell_type": "code",
      "metadata": {
        "id": "dXf_W_Rx5NeC"
      },
      "source": [],
      "execution_count": null,
      "outputs": []
    }
  ]
}